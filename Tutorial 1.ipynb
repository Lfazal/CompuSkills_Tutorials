{
 "cells": [
  {
   "cell_type": "markdown",
   "metadata": {},
   "source": [
    "# Computational Skills for Materials Science: Tutorial 1"
   ]
  },
  {
   "cell_type": "markdown",
   "metadata": {},
   "source": [
    "### Task 1: Using Python to write some equations using Latex"
   ]
  },
  {
   "cell_type": "markdown",
   "metadata": {},
   "source": [
    "##### Using Latex, write the equation for engineering stress with relation to force and area over which the force acts. Make sure to use the appropriate symbols for each of the terms."
   ]
  },
  {
   "cell_type": "markdown",
   "metadata": {},
   "source": [
    "Answer:"
   ]
  },
  {
   "cell_type": "code",
   "execution_count": null,
   "metadata": {
    "collapsed": true
   },
   "outputs": [],
   "source": []
  },
  {
   "cell_type": "markdown",
   "metadata": {},
   "source": [
    "##### Using Latex, write the define how engineering stress is related to engineering strain in the elastic region of a stress-strain curve. Make sure to use the appropriate symbols for each of the terms."
   ]
  },
  {
   "cell_type": "markdown",
   "metadata": {},
   "source": [
    "Answer:"
   ]
  },
  {
   "cell_type": "code",
   "execution_count": null,
   "metadata": {
    "collapsed": true
   },
   "outputs": [],
   "source": []
  },
  {
   "cell_type": "markdown",
   "metadata": {},
   "source": [
    "### Task 2: Using python to display an image"
   ]
  },
  {
   "cell_type": "markdown",
   "metadata": {},
   "source": [
    "##### Display the image with the following url:'http://theraffettogroup.com/wordpress/wp-content/uploads/2014/01/stress-curve.jpg'. Give it a heading 'Standard stress strain curve for polycrystalline metal' in heading 4 format"
   ]
  },
  {
   "cell_type": "markdown",
   "metadata": {},
   "source": [
    "Answer:"
   ]
  },
  {
   "cell_type": "code",
   "execution_count": null,
   "metadata": {
    "collapsed": true
   },
   "outputs": [],
   "source": []
  },
  {
   "cell_type": "markdown",
   "metadata": {},
   "source": [
    "### Task 3: Importing Modules"
   ]
  },
  {
   "cell_type": "markdown",
   "metadata": {},
   "source": [
    "##### For the rest of this tutorial we will require the following modules:\n",
    "$matplotlib\\\\\n",
    "numpy\\\\$\n"
   ]
  },
  {
   "cell_type": "markdown",
   "metadata": {},
   "source": [
    "##### Import the above modules"
   ]
  },
  {
   "cell_type": "markdown",
   "metadata": {},
   "source": [
    "Answer:"
   ]
  },
  {
   "cell_type": "code",
   "execution_count": null,
   "metadata": {
    "collapsed": true
   },
   "outputs": [],
   "source": []
  },
  {
   "cell_type": "markdown",
   "metadata": {},
   "source": [
    "### Task 4: Using python for simple calculations"
   ]
  },
  {
   "cell_type": "markdown",
   "metadata": {},
   "source": [
    "##### A wire of a particular material is loaded with a load of 200N. The diameter of the wire is 2.0 mm.  The length of the wire is 2.5 m, and it stretches 4.8 mm when under load. Calculate the engineering stress and print it to the nearest  2 decimal places including the units."
   ]
  },
  {
   "cell_type": "markdown",
   "metadata": {},
   "source": [
    "Answer:"
   ]
  },
  {
   "cell_type": "code",
   "execution_count": null,
   "metadata": {
    "collapsed": true
   },
   "outputs": [],
   "source": []
  },
  {
   "cell_type": "markdown",
   "metadata": {},
   "source": [
    "##### Calculate the engineering strain and print it to the nearest  2 decimal places."
   ]
  },
  {
   "cell_type": "code",
   "execution_count": null,
   "metadata": {
    "collapsed": true
   },
   "outputs": [],
   "source": []
  },
  {
   "cell_type": "markdown",
   "metadata": {},
   "source": [
    "##### Calculate the elastic modulus and print it to the nearest  2 significant figures including the units."
   ]
  },
  {
   "cell_type": "code",
   "execution_count": null,
   "metadata": {
    "collapsed": true
   },
   "outputs": [],
   "source": []
  },
  {
   "cell_type": "markdown",
   "metadata": {},
   "source": [
    "##### The dictionary below shows a list of metals and their respective elastic moduli:"
   ]
  },
  {
   "cell_type": "code",
   "execution_count": 136,
   "metadata": {
    "collapsed": false
   },
   "outputs": [],
   "source": [
    "moduli_dict = {'Brass': 105, 'Tin':47, 'Copper': 117, 'Aluminium':69, 'Iron':210}"
   ]
  },
  {
   "cell_type": "markdown",
   "metadata": {},
   "source": [
    "##### Using a loop, compare your values of modulus with the value in the dictionary to select which material the wire is manufactured from?"
   ]
  },
  {
   "cell_type": "markdown",
   "metadata": {},
   "source": [
    "Answer:"
   ]
  },
  {
   "cell_type": "code",
   "execution_count": null,
   "metadata": {
    "collapsed": true
   },
   "outputs": [],
   "source": []
  },
  {
   "cell_type": "markdown",
   "metadata": {},
   "source": [
    "##### Below is a list of loads (in N). If the yield stress of the material is 85MPa create and print the list of loads for which the material will be beyond its yield point i.e. in the plastic region?"
   ]
  },
  {
   "cell_type": "code",
   "execution_count": 137,
   "metadata": {
    "collapsed": true
   },
   "outputs": [],
   "source": [
    "load_list=[0, 20, 40, 60, 80, 100, 120, 140, 160, 180, 200, 220, 240, 260, 280, 300, 320, 340, 360, 380, 400, \n",
    "           420, 440, 460, 480, 500, 520, 540, 560, 580, 600, 620, 640, 660, 680, 700, 720, 740, 760, 780, 800]"
   ]
  },
  {
   "cell_type": "markdown",
   "metadata": {},
   "source": [
    "Answer:"
   ]
  },
  {
   "cell_type": "code",
   "execution_count": null,
   "metadata": {
    "collapsed": true
   },
   "outputs": [],
   "source": []
  },
  {
   "cell_type": "markdown",
   "metadata": {},
   "source": [
    "### Task 5: Plotting Graphs "
   ]
  },
  {
   "cell_type": "markdown",
   "metadata": {},
   "source": [
    "##### In order to view our plots within the work space we have to employ the '%matplotlib inline' command. This has been done for you below."
   ]
  },
  {
   "cell_type": "code",
   "execution_count": 138,
   "metadata": {
    "collapsed": true
   },
   "outputs": [],
   "source": [
    "%matplotlib inline"
   ]
  },
  {
   "cell_type": "markdown",
   "metadata": {},
   "source": [
    "##### A list of stress and strain values have been given below. Before the values can be plotted they have to be sorted. Sort out the values in ascending order so that they maybe plot into a stress-strain curve."
   ]
  },
  {
   "cell_type": "code",
   "execution_count": 139,
   "metadata": {
    "collapsed": false
   },
   "outputs": [],
   "source": [
    "strain=[0.0748, 0.0997, 0.0109, 0.0449, 0.0948, 0.0798, 0.0698, 0.0029, 0.0159, 0.0179, 0.0094, \n",
    "        0.0499, 0.0079, 0.0099, 0.0129, 0.0848, 0.0548, 0.0139, 0.0019, 0.0089, 0.0598, 0.0648, \n",
    "        0.0224, 0.0124, 0.0898, 0.0114, 0.0274, 0.0249, 0.0069, 0.0299, 0.0119, 0.0, 0.0199, \n",
    "        0.0349, 0.0049, 0.0039, 0.0059, 0.0104, 0.0009, 0.0399]\n",
    "stress=[1133.0, 1147.0, 1077.0, 189.0, 1122.0, 1293.0, 1100.0, 1095.0, 1171.0, 1210.0, 1339.0, \n",
    "        1035.0, 1118.0, 1105.0, 1498.0, 818.0, 1475.0, 1114.0, 1110.0, 1159.0, 1407.0, 1270.0, 1247.0, \n",
    "        0.0, 1430.0, 1453.0, 1544.0, 399.0, 1126.0, 1521.0, 1362.0, 1184.0, 1223.0, 1060.0, 1316.0, \n",
    "        1197.0, 977.0, 1089.0, 1384.0, 609.0]"
   ]
  },
  {
   "cell_type": "markdown",
   "metadata": {},
   "source": [
    "Answer:"
   ]
  },
  {
   "cell_type": "code",
   "execution_count": null,
   "metadata": {
    "collapsed": true
   },
   "outputs": [],
   "source": []
  },
  {
   "cell_type": "markdown",
   "metadata": {},
   "source": [
    "##### Plot stress against strain. Label the y-axis, 'True Stress (MPa)' and the x-axis, 'True Strain'. The graph should have a title 'Tensile Stress Strain Curve'"
   ]
  },
  {
   "cell_type": "markdown",
   "metadata": {},
   "source": [
    "Answer:"
   ]
  },
  {
   "cell_type": "code",
   "execution_count": null,
   "metadata": {
    "collapsed": true
   },
   "outputs": [],
   "source": []
  },
  {
   "cell_type": "markdown",
   "metadata": {},
   "source": [
    "##### Plot the elastic region alone"
   ]
  },
  {
   "cell_type": "markdown",
   "metadata": {},
   "source": [
    "Answer:"
   ]
  },
  {
   "cell_type": "code",
   "execution_count": null,
   "metadata": {
    "collapsed": true
   },
   "outputs": [],
   "source": []
  },
  {
   "cell_type": "markdown",
   "metadata": {
    "collapsed": true
   },
   "source": [
    "### Task 6: Manipulating 3d arrays"
   ]
  },
  {
   "cell_type": "markdown",
   "metadata": {},
   "source": [
    "##### As the figure below shows stress acting on an object can be broken into 9 different components"
   ]
  },
  {
   "cell_type": "markdown",
   "metadata": {},
   "source": [
    "![Cube_Tensor](http://1.bp.blogspot.com/-mzY05ZKZBzI/T_Lwa0-B5MI/AAAAAAAAAtg/dkNS4tEIzvA/s1600/stress+components+cube.jpg)"
   ]
  },
  {
   "cell_type": "markdown",
   "metadata": {},
   "source": [
    "##### The stress in a material can be defined by the stress tensor given below:"
   ]
  },
  {
   "cell_type": "markdown",
   "metadata": {},
   "source": [
    "$\\left( \\begin{array}{ccc}\n",
    "\\sigma_{11} & \\sigma_{12} & \\sigma_{13} \\\\\n",
    "\\sigma_{21} & \\sigma_{22} & \\sigma_{23} \\\\\n",
    "\\sigma_{31} & \\sigma_{32} & \\sigma_{33} \\end{array} \\right)$"
   ]
  },
  {
   "cell_type": "markdown",
   "metadata": {},
   "source": [
    "##### where $\\sigma_{11}$,$\\sigma_{22}$ & $\\sigma_{33}$ are the normal stresses in the x,y and z direction respectively. The hydrostatic stress acting on any point is defined by:"
   ]
  },
  {
   "cell_type": "markdown",
   "metadata": {},
   "source": [
    "##### $\\sigma_{H}=\\frac{1}{3}(\\sigma_{11}+\\sigma_{22}+\\sigma_{33})$"
   ]
  },
  {
   "cell_type": "markdown",
   "metadata": {},
   "source": [
    "##### where $\\sigma_{H}$ is the hydrostatic stress."
   ]
  },
  {
   "cell_type": "markdown",
   "metadata": {},
   "source": [
    "##### For the array below calculate the hydrostatic stress:"
   ]
  },
  {
   "cell_type": "code",
   "execution_count": null,
   "metadata": {
    "collapsed": true
   },
   "outputs": [],
   "source": []
  },
  {
   "cell_type": "markdown",
   "metadata": {},
   "source": [
    "##### Hint:\n",
    "\n",
    "$np.array([[500,30,20],[30,-20,-10],[20,-10,10]]) = $\n",
    "    $\\left( \\begin{array}{ccc}\n",
    "500 & 30 & 20 \\\\\n",
    "30 & -20 & -10 \\\\\n",
    "20 & -10 & 10 \\end{array} \\right)$"
   ]
  },
  {
   "cell_type": "markdown",
   "metadata": {},
   "source": [
    "##### What is the shape of the stress tensor?"
   ]
  },
  {
   "cell_type": "markdown",
   "metadata": {},
   "source": [
    "Answer:"
   ]
  },
  {
   "cell_type": "code",
   "execution_count": null,
   "metadata": {
    "collapsed": true
   },
   "outputs": [],
   "source": []
  },
  {
   "cell_type": "markdown",
   "metadata": {},
   "source": [
    "##### What is are the $\\sigma_{11}$,$\\sigma_{22}$ & $\\sigma_{33}$ values?"
   ]
  },
  {
   "cell_type": "markdown",
   "metadata": {},
   "source": [
    "Answer:"
   ]
  },
  {
   "cell_type": "code",
   "execution_count": null,
   "metadata": {
    "collapsed": true
   },
   "outputs": [],
   "source": []
  },
  {
   "cell_type": "markdown",
   "metadata": {},
   "source": [
    "##### What is the hydrostatic stress acting on the material?"
   ]
  },
  {
   "cell_type": "markdown",
   "metadata": {},
   "source": [
    "Answer:"
   ]
  },
  {
   "cell_type": "code",
   "execution_count": null,
   "metadata": {
    "collapsed": true
   },
   "outputs": [],
   "source": []
  },
  {
   "cell_type": "markdown",
   "metadata": {},
   "source": [
    "##### The stresses acting at different points and hence the hydrostatic stress of the material can vary at different regions. The stress tensors for 4 different points have been listed in the 3d array below:"
   ]
  },
  {
   "cell_type": "code",
   "execution_count": null,
   "metadata": {
    "collapsed": true
   },
   "outputs": [],
   "source": []
  },
  {
   "cell_type": "markdown",
   "metadata": {},
   "source": [
    "##### What is the shape of 'stress_array'?"
   ]
  },
  {
   "cell_type": "markdown",
   "metadata": {},
   "source": [
    "Answer:"
   ]
  },
  {
   "cell_type": "code",
   "execution_count": null,
   "metadata": {
    "collapsed": true
   },
   "outputs": [],
   "source": []
  },
  {
   "cell_type": "markdown",
   "metadata": {},
   "source": [
    "##### Calculate the hydrostatic stress at the 4 different points and save it in a 4x1 array?"
   ]
  },
  {
   "cell_type": "markdown",
   "metadata": {},
   "source": [
    "Answer:"
   ]
  },
  {
   "cell_type": "code",
   "execution_count": null,
   "metadata": {
    "collapsed": true
   },
   "outputs": [],
   "source": []
  },
  {
   "cell_type": "markdown",
   "metadata": {},
   "source": [
    "##### Plot a stress map using matplotlib imshow to observe the stress variation, including a colorbar. Make sure that the stress is not interpolated in the plotted map."
   ]
  },
  {
   "cell_type": "markdown",
   "metadata": {},
   "source": [
    "Answer:"
   ]
  },
  {
   "cell_type": "code",
   "execution_count": null,
   "metadata": {
    "collapsed": true
   },
   "outputs": [],
   "source": []
  }
 ],
 "metadata": {
  "kernelspec": {
   "display_name": "Python 2",
   "language": "python",
   "name": "python2"
  },
  "language_info": {
   "codemirror_mode": {
    "name": "ipython",
    "version": 2
   },
   "file_extension": ".py",
   "mimetype": "text/x-python",
   "name": "python",
   "nbconvert_exporter": "python",
   "pygments_lexer": "ipython2",
   "version": "2.7.10"
  }
 },
 "nbformat": 4,
 "nbformat_minor": 0
}
